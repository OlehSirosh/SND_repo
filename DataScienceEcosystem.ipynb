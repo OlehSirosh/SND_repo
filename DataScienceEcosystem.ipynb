{
  "metadata": {
    "language_info": {
      "codemirror_mode": {
        "name": "python",
        "version": 3
      },
      "file_extension": ".py",
      "mimetype": "text/x-python",
      "name": "python",
      "nbconvert_exporter": "python",
      "pygments_lexer": "ipython3",
      "version": "3.8"
    },
    "kernelspec": {
      "name": "python",
      "display_name": "Python (Pyodide)",
      "language": "python"
    }
  },
  "nbformat_minor": 4,
  "nbformat": 4,
  "cells": [
    {
      "cell_type": "markdown",
      "source": "# Data Science Tools and Ecosystem",
      "metadata": {
        "tags": []
      }
    },
    {
      "cell_type": "markdown",
      "source": "### In this notebook, Data Science Tools and Ecosystem are summarized.\n1. **Programming languages:** Such as Python and R, which are fundamental tools for data analysis and machine learning.\n2. **Libraries and frameworks:** For example, Pandas, NumPy, Scikit-learn, TensorFlow, PyTorch, and others, providing functionality for data processing, statistical analysis, and machine learning.\n3. **Data visualization tools:** Such as Matplotlib, Seaborn, Plotly, enabling the creation of charts and visualizations for understanding data.\n4. **Development environments:** For instance, Jupyter Notebooks, RStudio, Visual Studio Code, facilitating the development, testing, and documentation of code.\n5. **Version control systems:** Like Git, GitHub, allowing tracking changes in code, collaboration, and project management.\n6. **Databases:** Such as SQL and NoSQL databases, for storing and managing large volumes of data.\n7. **Cloud computing:** Using platforms like AWS, Azure, Google Cloud, for processing data in the cloud.",
      "metadata": {}
    },
    {
      "cell_type": "markdown",
      "source": "### Some of the popular languages that Data Scientists use are:\n1. **Python:** Widely used for its simplicity, extensive libraries (such as Pandas, NumPy, and scikit-learn), and versatility in handling various aspects of data science, including data manipulation, analysis, and machine learning.\n2. **R:** Especially popular for statistical analysis and visualization, R provides a comprehensive set of tools for data exploration, statistical modeling, and producing high-quality graphics.\n3. **SQL** (Structured Query Language): Essential for working with relational databases, SQL is crucial for querying and managing data stored in databases, which is often a fundamental part of data science workflows.\n4. **Julia:** Known for its high performance, Julia is gaining popularity in data science for tasks that require intensive numerical computation and analysis.\n5. **Java:** While not as specialized for data science as Python or R, Java is used in big data processing frameworks like Apache Hadoop and Apache Spark, making it relevant in certain data science applications.",
      "metadata": {}
    },
    {
      "cell_type": "markdown",
      "source": "### Some of the commonly used libraries used by Data Scientists include:\n1. **Pandas:** A powerful library for data manipulation and analysis in Python, providing data structures like DataFrames that make it easy to work with structured data.\n2. **NumPy:** Essential for numerical computing in Python, NumPy provides support for large, multi-dimensional arrays and matrices, along with mathematical functions to operate on these arrays.\n3. **Scikit-learn:** A machine learning library in Python that offers simple and efficient tools for data mining and data analysis. It includes various algorithms for classification, regression, clustering, and more.\n4. **Matplotlib:** A popular plotting library for Python that enables the creation of static, animated, and interactive visualizations in a variety of formats.\n5. **TensorFlow:** Developed by Google, TensorFlow is an open-source machine learning library that facilitates the development and training of deep learning models.\n6. **Seaborn:** Built on top of Matplotlib, Seaborn is a statistical data visualization library that simplifies the creation of attractive and informative statistical graphics.\n7. **Scipy:** A library used for scientific and technical computing in Python, Scipy builds on NumPy and provides additional functionality for optimization, integration, interpolation, and more.",
      "metadata": {}
    },
    {
      "cell_type": "code",
      "source": "### Tools for Data Science\n| Data Science Tools          |\n|-----------------------------|\n| Jupyter Notebooks           |\n| RStudio                     |\n| Visual Studio Code          |\n",
      "metadata": {},
      "execution_count": null,
      "outputs": []
    },
    {
      "cell_type": "markdown",
      "source": "### Below are a few examples of evaluating arithmetic expressions in Python",
      "metadata": {}
    },
    {
      "cell_type": "markdown",
      "source": "###  This a simple arithmetic expression to mutiply then add integers",
      "metadata": {}
    },
    {
      "cell_type": "code",
      "source": "print((3 * 4) + 5)",
      "metadata": {
        "trusted": true
      },
      "execution_count": 4,
      "outputs": [
        {
          "name": "stdout",
          "text": "17\n",
          "output_type": "stream"
        }
      ]
    },
    {
      "cell_type": "markdown",
      "source": "### Convert minutes to hours",
      "metadata": {}
    },
    {
      "cell_type": "code",
      "source": "# This will convert 200 minutes to hours by diving by 60\n\nminutes = 200\nhours = 60\nhours_con = minutes / hours\nround_hours_con = round(hours_con,2)\nprint(round_hours_con)\n",
      "metadata": {
        "trusted": true
      },
      "execution_count": 12,
      "outputs": [
        {
          "name": "stdout",
          "text": "3.33\n",
          "output_type": "stream"
        }
      ]
    },
    {
      "cell_type": "markdown",
      "source": "**Objectives:**\n- List popular languages for Data Science.\n- Summarize common libraries used in Data Science.\n- Introduce basic arithmetic expressions in Python.\n- Execute arithmetic operations and display results.\n- Illustrate the conversion of units in Python.",
      "metadata": {}
    },
    {
      "cell_type": "markdown",
      "source": "## Author \nOleg Siros\n",
      "metadata": {}
    },
    {
      "cell_type": "code",
      "source": "",
      "metadata": {},
      "execution_count": null,
      "outputs": []
    }
  ]
}